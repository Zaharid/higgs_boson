{
 "metadata": {
  "name": "",
  "signature": "sha256:c8b475da8cb27c92411478c97638b5ab7cbe7d2f8f3dc4a75fb97cefe69e9b91"
 },
 "nbformat": 3,
 "nbformat_minor": 0,
 "worksheets": []
}